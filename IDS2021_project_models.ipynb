{
 "cells": [
  {
   "cell_type": "code",
   "execution_count": 1,
   "metadata": {
    "id": "vYuOvQ8fiDf5"
   },
   "outputs": [],
   "source": [
    "import pandas as pd\n",
    "import numpy as np\n",
    "import matplotlib.pyplot as plt\n",
    "import matplotlib.pyplot as plt\n",
    "from sklearn.model_selection import train_test_split\n",
    "from sklearn.metrics import f1_score\n",
    "from sklearn.metrics import precision_recall_fscore_support\n",
    "\n",
    "from sklearn.tree import DecisionTreeClassifier\n",
    "from sklearn.ensemble import RandomForestClassifier\n",
    "from sklearn.neighbors import KNeighborsClassifier\n",
    "from sklearn.naive_bayes import GaussianNB\n",
    "from sklearn.ensemble import AdaBoostClassifier\n",
    "\n",
    "from imblearn.over_sampling import RandomOverSampler"
   ]
  },
  {
   "cell_type": "code",
   "execution_count": 2,
   "metadata": {
    "colab": {
     "base_uri": "https://localhost:8080/"
    },
    "id": "nvx0ahWilJIv",
    "outputId": "a6547ec3-320e-41ff-8a21-0d5eeb85272a"
   },
   "outputs": [],
   "source": [
    "# Mount Google Drive when using Google Colab\n",
    "# Do not run if not using Ćolab\n",
    "#from google.colab import drive\n",
    "#drive.mount('/content/drive')"
   ]
  },
  {
   "cell_type": "code",
   "execution_count": 3,
   "metadata": {
    "id": "4IGdTEv7kWke"
   },
   "outputs": [],
   "source": [
    "#Comment-uncomment as necessary\n",
    "# Read dataset from mounted Drive\n",
    "#df = pd.read_csv(\"/content/drive/MyDrive/Colab Notebooks/IDS_Project/BRFSS2015_cleaned_v2.csv\")\n",
    "# Read dataset from mounted folder\n",
    "df = pd.read_csv(\"./datasets/BRFSS2015_cleaned_v2.csv\")"
   ]
  },
  {
   "cell_type": "markdown",
   "metadata": {
    "id": "EHkF6x-wCrsZ"
   },
   "source": [
    "## No Sampling"
   ]
  },
  {
   "cell_type": "code",
   "execution_count": 4,
   "metadata": {
    "id": "OlaFGIt0kSGW"
   },
   "outputs": [],
   "source": [
    "# Get X and y from data\n",
    "X = df.drop('HeartDisease', axis=1)\n",
    "y = df['HeartDisease']"
   ]
  },
  {
   "cell_type": "code",
   "execution_count": 5,
   "metadata": {
    "id": "4VLXh5d7wV_t"
   },
   "outputs": [],
   "source": [
    "# Separate \n",
    "X_train, X_test, y_train, y_test = train_test_split(X, y, test_size=0.3, random_state=0)\n",
    "X_val, X_test, y_val, y_test = train_test_split(X_test, y_test, test_size=0.5, random_state=0)"
   ]
  },
  {
   "cell_type": "code",
   "execution_count": 6,
   "metadata": {
    "id": "VjqAHHxkkNz_"
   },
   "outputs": [],
   "source": [
    "# Decision Tree\n",
    "model_tree = DecisionTreeClassifier()\n",
    "model_tree = model_tree.fit(X_train, y_train)\n",
    "\n",
    "tree_pred = model_tree.predict(X_val)\n",
    "\n",
    "tree_fscore = f1_score(y_val, tree_pred)"
   ]
  },
  {
   "cell_type": "code",
   "execution_count": 7,
   "metadata": {
    "id": "Py_KlDi-wFu7"
   },
   "outputs": [],
   "source": [
    "# Random forest\n",
    "model_randomForest = RandomForestClassifier()\n",
    "model_randomForest = model_randomForest.fit(X_train, y_train)\n",
    "\n",
    "randomForest_pred = model_randomForest.predict(X_val)\n",
    "\n",
    "randomForest_fscore = f1_score(y_val, randomForest_pred)"
   ]
  },
  {
   "cell_type": "code",
   "execution_count": 8,
   "metadata": {
    "id": "yWNKAkFaFJts"
   },
   "outputs": [],
   "source": [
    "# K Neighbors\n",
    "model_KNN = KNeighborsClassifier()\n",
    "model_KNN = model_KNN.fit(X_train, y_train)\n",
    "\n",
    "KNN_pred = model_KNN.predict(X_val)\n",
    "\n",
    "KNN_fscore = f1_score(y_val, KNN_pred)"
   ]
  },
  {
   "cell_type": "code",
   "execution_count": 9,
   "metadata": {
    "id": "svAGinceWk7Y"
   },
   "outputs": [],
   "source": [
    "# In a loop to find best K on validation set\n",
    "#\n",
    "#best_i = 1\n",
    "#best_model = None\n",
    "#best_fscore = 0\n",
    "#\n",
    "# Maximum for KNN based on amount of number of entries with heart disease\n",
    "#for i in range(1,2*23218 + 1):\n",
    "#    model_KNN = KNeighborsClassifier(i)\n",
    "#    model_KNN = model_KNN.fit(X_train, y_train)\n",
    "#\n",
    "#    KNN_pred = model_KNN.predict(X_val)\n",
    "#\n",
    "#    KNN_fscore = f1_score(y_val, KNN_pred)\n",
    "#\n",
    "#    if KNN_fscore > best_fscore:\n",
    "#        best_i = i\n",
    "#        best_fscore = KNN_fscore\n",
    "#        best_model = model_KNN\n",
    "#\n",
    "#    print(i)\n",
    "#\n",
    "#model_KNN = best_model\n",
    "#KNN_fscore = best_fscore"
   ]
  },
  {
   "cell_type": "code",
   "execution_count": 10,
   "metadata": {
    "id": "O7FfmDszGnaj"
   },
   "outputs": [],
   "source": [
    "#GaussianNB\n",
    "model_GaussianNB = GaussianNB()\n",
    "model_GaussianNB = model_GaussianNB.fit(X_train, y_train)\n",
    "\n",
    "GaussianNB_pred = model_GaussianNB.predict(X_val)\n",
    "\n",
    "GaussianNB_fscore = f1_score(y_val, GaussianNB_pred)"
   ]
  },
  {
   "cell_type": "code",
   "execution_count": 11,
   "metadata": {
    "id": "bPip7pQeGnc_"
   },
   "outputs": [],
   "source": [
    "# AdaBoost\n",
    "model_AdaBoost = AdaBoostClassifier()\n",
    "model_AdaBoost = model_AdaBoost.fit(X_train, y_train)\n",
    "\n",
    "AdaBoost_pred = model_AdaBoost.predict(X_val)\n",
    "\n",
    "AdaBoost_pred = f1_score(y_val, AdaBoost_pred)"
   ]
  },
  {
   "cell_type": "code",
   "execution_count": 12,
   "metadata": {
    "colab": {
     "base_uri": "https://localhost:8080/"
    },
    "id": "trNjCQfFwIPq",
    "outputId": "ba1eff3a-eaea-405d-e07d-94671deab03d"
   },
   "outputs": [
    {
     "name": "stdout",
     "output_type": "stream",
     "text": [
      "F-scores on non-sampled data\n",
      "\tDecision tree: 0.2520150456743686\n",
      "\tRandom forest: 0.17383133662203432\n",
      "\tK Neighbors:   0.14813157305884983\n",
      "\tGaussianNB:    0.3648919135308246\n",
      "\tAda Boost:     0.2306997742663657\n"
     ]
    }
   ],
   "source": [
    "print(\"F-scores on non-sampled data\")\n",
    "print(\"\\tDecision tree:\", tree_fscore)\n",
    "print(\"\\tRandom forest:\", randomForest_fscore)\n",
    "print(\"\\tK Neighbors:  \", KNN_fscore)\n",
    "print(\"\\tGaussianNB:   \", GaussianNB_fscore)\n",
    "print(\"\\tAda Boost:    \", AdaBoost_pred)"
   ]
  },
  {
   "cell_type": "markdown",
   "metadata": {
    "id": "HotXNIo0QV77"
   },
   "source": [
    "# Undersampling"
   ]
  },
  {
   "cell_type": "code",
   "execution_count": 13,
   "metadata": {
    "id": "5DnbheBHQVYV"
   },
   "outputs": [],
   "source": [
    "# Separate into positive and negative cases\n",
    "# Keep as many negatice cases as positive cases\n",
    "positive_cases = df[df['HeartDisease'] == 1]\n",
    "negative_sample = df[df['HeartDisease'] == 0].sample(n = len(positive_cases), random_state=0)\n",
    "\n",
    "undersampled = pd.concat([positive_cases, negative_sample])\n",
    "undersampled.sort_index(inplace=True)\n",
    "\n",
    "# split data into X and y\n",
    "X = undersampled.drop('HeartDisease', axis=1)\n",
    "y = undersampled['HeartDisease']\n",
    "\n",
    "# Separate into test, train and validation sets\n",
    "X_train, X_test, y_train, y_test = train_test_split(X, y, test_size=0.3, random_state=0)\n",
    "X_val, X_test, y_val, y_test = train_test_split(X_test, y_test, test_size=0.5, random_state=0)"
   ]
  },
  {
   "cell_type": "code",
   "execution_count": 14,
   "metadata": {
    "id": "YBYKAC8gTIgr"
   },
   "outputs": [],
   "source": [
    "# Decision Tree\n",
    "model_tree = DecisionTreeClassifier()\n",
    "model_tree = model_tree.fit(X_train, y_train)\n",
    "\n",
    "tree_pred = model_tree.predict(X_val)\n",
    "\n",
    "tree_fscore = f1_score(y_val, tree_pred)"
   ]
  },
  {
   "cell_type": "code",
   "execution_count": 15,
   "metadata": {
    "id": "ILMXi-ZbTIgr"
   },
   "outputs": [],
   "source": [
    "# Random forest\n",
    "model_randomForest = RandomForestClassifier()\n",
    "model_randomForest = model_randomForest.fit(X_train, y_train)\n",
    "\n",
    "randomForest_pred = model_randomForest.predict(X_val)\n",
    "\n",
    "randomForest_fscore = f1_score(y_val, randomForest_pred)"
   ]
  },
  {
   "cell_type": "code",
   "execution_count": 16,
   "metadata": {
    "id": "WCV0nNvMTIgs"
   },
   "outputs": [],
   "source": [
    "# K Neighbors\n",
    "model_KNN = KNeighborsClassifier()\n",
    "model_KNN = model_KNN.fit(X_train, y_train)\n",
    "\n",
    "KNN_pred = model_KNN.predict(X_val)\n",
    "\n",
    "KNN_fscore = f1_score(y_val, KNN_pred)"
   ]
  },
  {
   "cell_type": "code",
   "execution_count": 17,
   "metadata": {
    "id": "NLyD3IToTIgs"
   },
   "outputs": [],
   "source": [
    "#GaussianNB\n",
    "model_GaussianNB = GaussianNB()\n",
    "model_GaussianNB = model_GaussianNB.fit(X_train, y_train)\n",
    "\n",
    "GaussianNB_pred = model_GaussianNB.predict(X_val)\n",
    "\n",
    "GaussianNB_fscore = f1_score(y_val, GaussianNB_pred)"
   ]
  },
  {
   "cell_type": "code",
   "execution_count": 18,
   "metadata": {
    "id": "chECM3Y6TIgs"
   },
   "outputs": [],
   "source": [
    "# AdaBoost\n",
    "model_AdaBoost = AdaBoostClassifier()\n",
    "model_AdaBoost = model_AdaBoost.fit(X_train, y_train)\n",
    "\n",
    "AdaBoost_pred = model_AdaBoost.predict(X_val)\n",
    "\n",
    "AdaBoost_pred = f1_score(y_val, AdaBoost_pred)"
   ]
  },
  {
   "cell_type": "code",
   "execution_count": 19,
   "metadata": {
    "colab": {
     "base_uri": "https://localhost:8080/"
    },
    "id": "aCgOCHbUTIgs",
    "outputId": "cd2edde8-28c1-45a9-b067-be4320b32ac3"
   },
   "outputs": [
    {
     "name": "stdout",
     "output_type": "stream",
     "text": [
      "F-scores on undersampled data\n",
      "\tDecision tree: 0.6742824503784092\n",
      "\tRandom forest: 0.7742639040348963\n",
      "\tK Neighbors:   0.7165596202178162\n",
      "\tGaussianNB:    0.7042424242424242\n",
      "\tAda Boost:     0.7706703910614525\n"
     ]
    }
   ],
   "source": [
    "print(\"F-scores on undersampled data\")\n",
    "print(\"\\tDecision tree:\", tree_fscore)\n",
    "print(\"\\tRandom forest:\", randomForest_fscore)\n",
    "print(\"\\tK Neighbors:  \", KNN_fscore)\n",
    "print(\"\\tGaussianNB:   \", GaussianNB_fscore)\n",
    "print(\"\\tAda Boost:    \", AdaBoost_pred)"
   ]
  },
  {
   "cell_type": "markdown",
   "metadata": {
    "id": "h_mooSwgTSUN"
   },
   "source": [
    "# Oversampling"
   ]
  },
  {
   "cell_type": "code",
   "execution_count": 20,
   "metadata": {
    "id": "nosdTjzAU3AB"
   },
   "outputs": [],
   "source": [
    "# Get X and y from data\n",
    "X = df.drop('HeartDisease', axis=1)\n",
    "y = df['HeartDisease']\n",
    "\n",
    "# Oversample\n",
    "ros = RandomOverSampler(random_state=0)\n",
    "X_oversampled, y_oversampled = ros.fit_resample(X, y)\n",
    "\n",
    "# Separate into test, train and validation sets\n",
    "X_train, X_test, y_train, y_test = train_test_split(X_oversampled, y_oversampled, test_size=0.3, random_state=0)\n",
    "X_val, X_test, y_val, y_test = train_test_split(X_test, y_test, test_size=0.5, random_state=0)"
   ]
  },
  {
   "cell_type": "code",
   "execution_count": 21,
   "metadata": {
    "id": "au5Ij6U7V7Tp"
   },
   "outputs": [],
   "source": [
    "# Decision Tree\n",
    "model_tree = DecisionTreeClassifier()\n",
    "model_tree = model_tree.fit(X_train, y_train)\n",
    "\n",
    "tree_pred = model_tree.predict(X_val)\n",
    "\n",
    "tree_fscore = f1_score(y_val, tree_pred)"
   ]
  },
  {
   "cell_type": "code",
   "execution_count": 22,
   "metadata": {
    "id": "kCN6VwOAV7Tv"
   },
   "outputs": [],
   "source": [
    "# Random forest\n",
    "model_randomForest = RandomForestClassifier()\n",
    "model_randomForest = model_randomForest.fit(X_train, y_train)\n",
    "\n",
    "randomForest_pred = model_randomForest.predict(X_val)\n",
    "\n",
    "randomForest_fscore = f1_score(y_val, randomForest_pred)"
   ]
  },
  {
   "cell_type": "code",
   "execution_count": 23,
   "metadata": {
    "id": "w98Cu3hHV7Tv"
   },
   "outputs": [],
   "source": [
    "# K Neighbors\n",
    "model_KNN = KNeighborsClassifier()\n",
    "model_KNN = model_KNN.fit(X_train, y_train)\n",
    "\n",
    "KNN_pred = model_KNN.predict(X_val)\n",
    "\n",
    "KNN_fscore = f1_score(y_val, KNN_pred)"
   ]
  },
  {
   "cell_type": "code",
   "execution_count": 24,
   "metadata": {
    "id": "mPKifZLkV7Tv"
   },
   "outputs": [],
   "source": [
    "#GaussianNB\n",
    "model_GaussianNB = GaussianNB()\n",
    "model_GaussianNB = model_GaussianNB.fit(X_train, y_train)\n",
    "\n",
    "GaussianNB_pred = model_GaussianNB.predict(X_val)\n",
    "\n",
    "GaussianNB_fscore = f1_score(y_val, GaussianNB_pred)"
   ]
  },
  {
   "cell_type": "code",
   "execution_count": 25,
   "metadata": {
    "id": "gk1owFEhV7Tv"
   },
   "outputs": [],
   "source": [
    "# AdaBoost\n",
    "model_AdaBoost = AdaBoostClassifier()\n",
    "model_AdaBoost = model_AdaBoost.fit(X_train, y_train)\n",
    "\n",
    "AdaBoost_pred = model_AdaBoost.predict(X_val)\n",
    "\n",
    "AdaBoost_pred = f1_score(y_val, AdaBoost_pred)"
   ]
  },
  {
   "cell_type": "code",
   "execution_count": 26,
   "metadata": {
    "colab": {
     "base_uri": "https://localhost:8080/"
    },
    "id": "BweVjEyjV7Tv",
    "outputId": "792635c8-5402-47a6-b8f5-6b6f18018e89"
   },
   "outputs": [
    {
     "name": "stdout",
     "output_type": "stream",
     "text": [
      "F-scores on oversampled data\n",
      "\tDecision tree: 0.948783556454007\n",
      "\tRandom forest: 0.970267262188688\n",
      "\tK Neighbors:   0.884664502740382\n",
      "\tGaussianNB:    0.7006446286240513\n",
      "\tAda Boost:     0.7728920594082563\n"
     ]
    }
   ],
   "source": [
    "print(\"F-scores on oversampled data\")\n",
    "print(\"\\tDecision tree:\", tree_fscore)\n",
    "print(\"\\tRandom forest:\", randomForest_fscore)\n",
    "print(\"\\tK Neighbors:  \", KNN_fscore)\n",
    "print(\"\\tGaussianNB:   \", GaussianNB_fscore)\n",
    "print(\"\\tAda Boost:    \", AdaBoost_pred)"
   ]
  },
  {
   "cell_type": "markdown",
   "metadata": {
    "id": "dUGJsmxKdn9U"
   },
   "source": [
    "# The best model\n",
    "\n",
    "The best model turned out to be Random Forest classifier based on oversampled data\n",
    "\n",
    "The next section is about determining what features this model uses for classification and further analysis on test data (not validation data)."
   ]
  },
  {
   "cell_type": "code",
   "execution_count": 27,
   "metadata": {
    "colab": {
     "base_uri": "https://localhost:8080/"
    },
    "id": "o7ZWnhOKdpol",
    "outputId": "ed981d89-eac4-4051-ad76-20584e6413b2"
   },
   "outputs": [
    {
     "name": "stdout",
     "output_type": "stream",
     "text": [
      "Using the oversampled Random Forest Classifier\n",
      "\tPrecision: 0.9453228116487404\n",
      "\tAccuracy:  0.9985760901809552\n",
      "\tF-score:   0.9712200118293685\n"
     ]
    }
   ],
   "source": [
    "# Using the oversampled Random Forest Classifier\n",
    "y_pred = model_randomForest.predict(X_test)\n",
    "\n",
    "# Getting the metrics\n",
    "metrics = precision_recall_fscore_support(y_test, y_pred, average=\"binary\")\n",
    "\n",
    "# Printing the metrics\n",
    "print(\"Using the oversampled Random Forest Classifier\")\n",
    "print(\"\\tPrecision:\", metrics[0])\n",
    "print(\"\\tAccuracy: \", metrics[1])\n",
    "print(\"\\tF-score:  \", metrics[2])"
   ]
  },
  {
   "cell_type": "code",
   "execution_count": 28,
   "metadata": {
    "id": "Fib7FeM6gfLu"
   },
   "outputs": [],
   "source": [
    "features_with_importances = list(zip(X.columns, model_randomForest.feature_importances_))\n",
    "features_with_importances.sort(key = lambda x: x[1], reverse = True)"
   ]
  },
  {
   "cell_type": "code",
   "execution_count": 29,
   "metadata": {
    "colab": {
     "base_uri": "https://localhost:8080/"
    },
    "id": "QQiZARF4kr_L",
    "outputId": "c5272ccc-5f91-46af-de59-f32291a00e2b"
   },
   "outputs": [
    {
     "name": "stdout",
     "output_type": "stream",
     "text": [
      "Features with their importance in the model\n",
      "\tAge: 0.14655687385803504\n",
      "\tBMI: 0.1396051912619271\n",
      "\tGenHlth: 0.0902527111347042\n",
      "\tPhysHlth: 0.06587913540594782\n",
      "\tHighBP: 0.06243563594160124\n",
      "\tIncome: 0.05562965366057185\n",
      "\tEducation: 0.052248269768001655\n",
      "\tPhysActivity: 0.049907998087105714\n",
      "\tMentHlth: 0.04723236855947088\n",
      "\tHighChol: 0.04350905651064045\n",
      "\tSmoker: 0.0376239897013417\n",
      "\tDiffWalk: 0.03459904454031395\n",
      "\tDiabetes: 0.02965579510878636\n",
      "\tSex: 0.027054714125151324\n",
      "\tLastCheckup: 0.025497354140303432\n",
      "\tFruits: 0.025061077343789224\n",
      "\tStroke: 0.022185412075322947\n",
      "\tVeggies: 0.019886261030350023\n",
      "\tNoDocBcCost: 0.010623398005586508\n",
      "\tHvyDrinking: 0.008230485971128958\n",
      "\tHealthcare: 0.006325573769919772\n"
     ]
    }
   ],
   "source": [
    "print(\"Features with their importance in the model\")\n",
    "for label, importance in features_with_importances:\n",
    "    print(\"\\t\" + label + \":\", importance)"
   ]
  },
  {
   "cell_type": "code",
   "execution_count": 30,
   "metadata": {
    "colab": {
     "base_uri": "https://localhost:8080/",
     "height": 527
    },
    "id": "Dbk3rvWclPH3",
    "outputId": "387541ea-4cd1-490b-8f82-cb8cfb3c3d03"
   },
   "outputs": [
    {
     "data": {
      "image/png": "[encoded data removed]",
      "text/plain": [
       "<Figure size 1440x576 with 1 Axes>"
      ]
     },
     "metadata": {
      "needs_background": "light"
     },
     "output_type": "display_data"
    }
   ],
   "source": [
    "features = list(zip(*features_with_importances))[0]\n",
    "scores = list(zip(*features_with_importances))[1]\n",
    "\n",
    "plt.rcParams['figure.figsize'] = [20, 8]\n",
    "\n",
    "plt.bar(features, scores)\n",
    "plt.xticks(rotation=45, ha=\"right\")\n",
    "plt.ylabel('Feature Importance')\n",
    "plt.show()"
   ]
  },
  {
   "cell_type": "code",
   "execution_count": 31,
   "metadata": {
    "colab": {
     "base_uri": "https://localhost:8080/",
     "height": 523
    },
    "id": "jll7HNXspqom",
    "outputId": "de821bcb-4869-4d38-ddb6-44c97a65a858"
   },
   "outputs": [
    {
     "data": {
      "image/png": "[encoded data removed]",
      "text/plain": [
       "<Figure size 648x576 with 1 Axes>"
      ]
     },
     "metadata": {
      "needs_background": "light"
     },
     "output_type": "display_data"
    }
   ],
   "source": [
    "features = list(zip(*features_with_importances[:10]))[0]\n",
    "scores = list(zip(*features_with_importances[:10]))[1]\n",
    "\n",
    "replacements = {'GenHlth':'General opinion\\non own health', 'PhysHlth':'Number of days with\\nbad physical health\\nin last 30 days', 'HighBP':'Has high\\nblood pressure', 'Education':'Level of education', 'PhysActivity':'Level of physical activity', 'HighChol':'Has high cholesterol', 'MentHlth':'Number of days with\\nbad mental health\\nin last 30 days'}\n",
    "\n",
    "features = [replacements.get(n, n) for n in features]\n",
    "\n",
    "plt.rcParams['figure.figsize'] = [9, 8]\n",
    "\n",
    "plt.bar(features, scores)\n",
    "plt.xticks(rotation=45, ha=\"right\")\n",
    "plt.ylabel('Feature Importance')\n",
    "plt.show()"
   ]
  }
 ],
 "metadata": {
  "colab": {
   "collapsed_sections": [],
   "name": "IDS2021-project_models.ipynb",
   "provenance": []
  },
  "kernelspec": {
   "display_name": "Python 3 (ipykernel)",
   "language": "python",
   "name": "python3"
  },
  "language_info": {
   "codemirror_mode": {
    "name": "ipython",
    "version": 3
   },
   "file_extension": ".py",
   "mimetype": "text/x-python",
   "name": "python",
   "nbconvert_exporter": "python",
   "pygments_lexer": "ipython3",
   "version": "3.9.6"
  }
 },
 "nbformat": 4,
 "nbformat_minor": 1
}
