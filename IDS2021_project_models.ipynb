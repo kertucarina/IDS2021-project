{
  "nbformat": 4,
  "nbformat_minor": 0,
  "metadata": {
    "colab": {
      "name": "IDS2021-project_models.ipynb",
      "provenance": [],
      "collapsed_sections": []
    },
    "kernelspec": {
      "name": "python3",
      "display_name": "Python 3"
    },
    "language_info": {
      "name": "python"
    }
  },
  "cells": [
    {
      "cell_type": "code",
      "execution_count": 46,
      "metadata": {
        "id": "vYuOvQ8fiDf5"
      },
      "outputs": [],
      "source": [
        "import pandas as pd\n",
        "import numpy as np\n",
        "import matplotlib.pyplot as plt\n",
        "import matplotlib.pyplot as plt\n",
        "from sklearn.model_selection import train_test_split\n",
        "from sklearn.metrics import f1_score\n",
        "from sklearn.metrics import precision_recall_fscore_support\n",
        "\n",
        "from sklearn.tree import DecisionTreeClassifier\n",
        "from sklearn.ensemble import RandomForestClassifier\n",
        "from sklearn.neighbors import KNeighborsClassifier\n",
        "from sklearn.naive_bayes import GaussianNB\n",
        "from sklearn.ensemble import AdaBoostClassifier\n",
        "\n",
        "from imblearn.over_sampling import RandomOverSampler"
      ]
    },
    {
      "cell_type": "code",
      "source": [
        "# Mount Google Drive when using Google Colab\n",
        "# Do not run if not using Ćolab\n",
        "from google.colab import drive\n",
        "drive.mount('/content/drive')"
      ],
      "metadata": {
        "colab": {
          "base_uri": "https://localhost:8080/"
        },
        "id": "nvx0ahWilJIv",
        "outputId": "a6547ec3-320e-41ff-8a21-0d5eeb85272a"
      },
      "execution_count": 2,
      "outputs": [
        {
          "output_type": "stream",
          "name": "stdout",
          "text": [
            "Drive already mounted at /content/drive; to attempt to forcibly remount, call drive.mount(\"/content/drive\", force_remount=True).\n"
          ]
        }
      ]
    },
    {
      "cell_type": "code",
      "source": [
        "#Comment-uncomment as necessary\n",
        "# Read dataset from mounted Drive\n",
        "df = pd.read_csv(\"/content/drive/MyDrive/Colab Notebooks/IDS_Project/BRFSS2015_cleaned_v2.csv\")\n",
        "# Read dataset from mounted folder\n",
        "#df = pd.read_csv(\"./datasets/BRFSS2015_cleaned_v2.csv\")"
      ],
      "metadata": {
        "id": "4IGdTEv7kWke"
      },
      "execution_count": 3,
      "outputs": []
    },
    {
      "cell_type": "markdown",
      "source": [
        "## No Sampling"
      ],
      "metadata": {
        "id": "EHkF6x-wCrsZ"
      }
    },
    {
      "cell_type": "code",
      "source": [
        "# Get X and y from data\n",
        "X = df.drop('HeartDisease', axis=1)\n",
        "y = df['HeartDisease']"
      ],
      "metadata": {
        "id": "OlaFGIt0kSGW"
      },
      "execution_count": 4,
      "outputs": []
    },
    {
      "cell_type": "code",
      "source": [
        "# Separate \n",
        "X_train, X_test, y_train, y_test = train_test_split(X, y, test_size=0.3, random_state=0)\n",
        "X_val, X_test, y_val, y_test = train_test_split(X_test, y_test, test_size=0.5, random_state=0)"
      ],
      "metadata": {
        "id": "4VLXh5d7wV_t"
      },
      "execution_count": 5,
      "outputs": []
    },
    {
      "cell_type": "code",
      "source": [
        "# Decision Tree\n",
        "model_tree = DecisionTreeClassifier()\n",
        "model_tree = model_tree.fit(X_train, y_train)\n",
        "\n",
        "tree_pred = model_tree.predict(X_val)\n",
        "\n",
        "tree_fscore = f1_score(y_val, tree_pred)"
      ],
      "metadata": {
        "id": "VjqAHHxkkNz_"
      },
      "execution_count": 6,
      "outputs": []
    },
    {
      "cell_type": "code",
      "source": [
        "# Random forest\n",
        "model_randomForest = RandomForestClassifier()\n",
        "model_randomForest = model_randomForest.fit(X_train, y_train)\n",
        "\n",
        "randomForest_pred = model_randomForest.predict(X_val)\n",
        "\n",
        "randomForest_fscore = f1_score(y_val, randomForest_pred)"
      ],
      "metadata": {
        "id": "Py_KlDi-wFu7"
      },
      "execution_count": 7,
      "outputs": []
    },
    {
      "cell_type": "code",
      "source": [
        "# K Neighbors\n",
        "model_KNN = KNeighborsClassifier()\n",
        "model_KNN = model_KNN.fit(X_train, y_train)\n",
        "\n",
        "KNN_pred = model_KNN.predict(X_val)\n",
        "\n",
        "KNN_fscore = f1_score(y_val, KNN_pred)"
      ],
      "metadata": {
        "id": "yWNKAkFaFJts"
      },
      "execution_count": 8,
      "outputs": []
    },
    {
      "cell_type": "code",
      "source": [
        "# In a loop to find best K on validation set\n",
        "#\n",
        "#best_i = 1\n",
        "#best_model = None\n",
        "#best_fscore = 0\n",
        "#\n",
        "# Maximum for KNN based on amount of number of entries with heart disease\n",
        "#for i in range(1,2*23218 + 1):\n",
        "#    model_KNN = KNeighborsClassifier(i)\n",
        "#    model_KNN = model_KNN.fit(X_train, y_train)\n",
        "#\n",
        "#    KNN_pred = model_KNN.predict(X_val)\n",
        "#\n",
        "#    KNN_fscore = f1_score(y_val, KNN_pred)\n",
        "#\n",
        "#    if KNN_fscore > best_fscore:\n",
        "#        best_i = i\n",
        "#        best_fscore = KNN_fscore\n",
        "#        best_model = model_KNN\n",
        "#\n",
        "#    print(i)\n",
        "#\n",
        "#model_KNN = best_model\n",
        "#KNN_fscore = best_fscore"
      ],
      "metadata": {
        "id": "svAGinceWk7Y"
      },
      "execution_count": 9,
      "outputs": []
    },
    {
      "cell_type": "code",
      "source": [
        "#GaussianNB\n",
        "model_GaussianNB = GaussianNB()\n",
        "model_GaussianNB = model_GaussianNB.fit(X_train, y_train)\n",
        "\n",
        "GaussianNB_pred = model_GaussianNB.predict(X_val)\n",
        "\n",
        "GaussianNB_fscore = f1_score(y_val, GaussianNB_pred)"
      ],
      "metadata": {
        "id": "O7FfmDszGnaj"
      },
      "execution_count": 10,
      "outputs": []
    },
    {
      "cell_type": "code",
      "source": [
        "# AdaBoost\n",
        "model_AdaBoost = AdaBoostClassifier()\n",
        "model_AdaBoost = model_AdaBoost.fit(X_train, y_train)\n",
        "\n",
        "AdaBoost_pred = model_AdaBoost.predict(X_val)\n",
        "\n",
        "AdaBoost_pred = f1_score(y_val, AdaBoost_pred)"
      ],
      "metadata": {
        "id": "bPip7pQeGnc_"
      },
      "execution_count": 11,
      "outputs": []
    },
    {
      "cell_type": "code",
      "source": [
        "print(\"F-scores on non-sampled data\")\n",
        "print(\"\\tDecision tree:\", tree_fscore)\n",
        "print(\"\\tRandom forest:\", randomForest_fscore)\n",
        "print(\"\\tK Neighbors:  \", KNN_fscore)\n",
        "print(\"\\tGaussianNB:   \", GaussianNB_fscore)\n",
        "print(\"\\tAda Boost:    \", AdaBoost_pred)"
      ],
      "metadata": {
        "colab": {
          "base_uri": "https://localhost:8080/"
        },
        "id": "trNjCQfFwIPq",
        "outputId": "ba1eff3a-eaea-405d-e07d-94671deab03d"
      },
      "execution_count": 12,
      "outputs": [
        {
          "output_type": "stream",
          "name": "stdout",
          "text": [
            "F-scores on non-sampled data\n",
            "\tDecision tree: 0.24885906040268457\n",
            "\tRandom forest: 0.1703425621773815\n",
            "\tK Neighbors:   0.14813157305884983\n",
            "\tGaussianNB:    0.3648919135308246\n",
            "\tAda Boost:     0.2306997742663657\n"
          ]
        }
      ]
    },
    {
      "cell_type": "markdown",
      "source": [
        "# Undersampling"
      ],
      "metadata": {
        "id": "HotXNIo0QV77"
      }
    },
    {
      "cell_type": "code",
      "source": [
        "# Separate into positive and negative cases\n",
        "# Keep as many negatice cases as positive cases\n",
        "positive_cases = df[df['HeartDisease'] == 1]\n",
        "negative_sample = df[df['HeartDisease'] == 0].sample(n = len(positive_cases), random_state=0)\n",
        "\n",
        "undersampled = pd.concat([positive_cases, negative_sample])\n",
        "undersampled.sort_index(inplace=True)\n",
        "\n",
        "# split data into X and y\n",
        "X = undersampled.drop('HeartDisease', axis=1)\n",
        "y = undersampled['HeartDisease']\n",
        "\n",
        "# Separate into test, train and validation sets\n",
        "X_train, X_test, y_train, y_test = train_test_split(X, y, test_size=0.3, random_state=0)\n",
        "X_val, X_test, y_val, y_test = train_test_split(X_test, y_test, test_size=0.5, random_state=0)"
      ],
      "metadata": {
        "id": "5DnbheBHQVYV"
      },
      "execution_count": 13,
      "outputs": []
    },
    {
      "cell_type": "code",
      "source": [
        "# Decision Tree\n",
        "model_tree = DecisionTreeClassifier()\n",
        "model_tree = model_tree.fit(X_train, y_train)\n",
        "\n",
        "tree_pred = model_tree.predict(X_val)\n",
        "\n",
        "tree_fscore = f1_score(y_val, tree_pred)"
      ],
      "metadata": {
        "id": "YBYKAC8gTIgr"
      },
      "execution_count": 14,
      "outputs": []
    },
    {
      "cell_type": "code",
      "source": [
        "# Random forest\n",
        "model_randomForest = RandomForestClassifier()\n",
        "model_randomForest = model_randomForest.fit(X_train, y_train)\n",
        "\n",
        "randomForest_pred = model_randomForest.predict(X_val)\n",
        "\n",
        "randomForest_fscore = f1_score(y_val, randomForest_pred)"
      ],
      "metadata": {
        "id": "ILMXi-ZbTIgr"
      },
      "execution_count": 15,
      "outputs": []
    },
    {
      "cell_type": "code",
      "source": [
        "# K Neighbors\n",
        "model_KNN = KNeighborsClassifier()\n",
        "model_KNN = model_KNN.fit(X_train, y_train)\n",
        "\n",
        "KNN_pred = model_KNN.predict(X_val)\n",
        "\n",
        "KNN_fscore = f1_score(y_val, KNN_pred)"
      ],
      "metadata": {
        "id": "WCV0nNvMTIgs"
      },
      "execution_count": 16,
      "outputs": []
    },
    {
      "cell_type": "code",
      "source": [
        "#GaussianNB\n",
        "model_GaussianNB = GaussianNB()\n",
        "model_GaussianNB = model_GaussianNB.fit(X_train, y_train)\n",
        "\n",
        "GaussianNB_pred = model_GaussianNB.predict(X_val)\n",
        "\n",
        "GaussianNB_fscore = f1_score(y_val, GaussianNB_pred)"
      ],
      "metadata": {
        "id": "NLyD3IToTIgs"
      },
      "execution_count": 17,
      "outputs": []
    },
    {
      "cell_type": "code",
      "source": [
        "# AdaBoost\n",
        "model_AdaBoost = AdaBoostClassifier()\n",
        "model_AdaBoost = model_AdaBoost.fit(X_train, y_train)\n",
        "\n",
        "AdaBoost_pred = model_AdaBoost.predict(X_val)\n",
        "\n",
        "AdaBoost_pred = f1_score(y_val, AdaBoost_pred)"
      ],
      "metadata": {
        "id": "chECM3Y6TIgs"
      },
      "execution_count": 18,
      "outputs": []
    },
    {
      "cell_type": "code",
      "source": [
        "print(\"F-scores on undersampled data\")\n",
        "print(\"\\tDecision tree:\", tree_fscore)\n",
        "print(\"\\tRandom forest:\", randomForest_fscore)\n",
        "print(\"\\tK Neighbors:  \", KNN_fscore)\n",
        "print(\"\\tGaussianNB:   \", GaussianNB_fscore)\n",
        "print(\"\\tAda Boost:    \", AdaBoost_pred)"
      ],
      "metadata": {
        "colab": {
          "base_uri": "https://localhost:8080/"
        },
        "outputId": "cd2edde8-28c1-45a9-b067-be4320b32ac3",
        "id": "aCgOCHbUTIgs"
      },
      "execution_count": 19,
      "outputs": [
        {
          "output_type": "stream",
          "name": "stdout",
          "text": [
            "F-scores on undersampled data\n",
            "\tDecision tree: 0.6790088293933353\n",
            "\tRandom forest: 0.7704738427827992\n",
            "\tK Neighbors:   0.7165596202178162\n",
            "\tGaussianNB:    0.7042424242424242\n",
            "\tAda Boost:     0.7706703910614525\n"
          ]
        }
      ]
    },
    {
      "cell_type": "markdown",
      "source": [
        "# Oversampling"
      ],
      "metadata": {
        "id": "h_mooSwgTSUN"
      }
    },
    {
      "cell_type": "code",
      "source": [
        "# Get X and y from data\n",
        "X = df.drop('HeartDisease', axis=1)\n",
        "y = df['HeartDisease']\n",
        "\n",
        "# Oversample\n",
        "ros = RandomOverSampler(random_state=0)\n",
        "X_oversampled, y_oversampled = ros.fit_resample(X, y)\n",
        "\n",
        "# Separate into test, train and validation sets\n",
        "X_train, X_test, y_train, y_test = train_test_split(X_oversampled, y_oversampled, test_size=0.3, random_state=0)\n",
        "X_val, X_test, y_val, y_test = train_test_split(X_test, y_test, test_size=0.5, random_state=0)"
      ],
      "metadata": {
        "id": "nosdTjzAU3AB"
      },
      "execution_count": 20,
      "outputs": []
    },
    {
      "cell_type": "code",
      "source": [
        "# Decision Tree\n",
        "model_tree = DecisionTreeClassifier()\n",
        "model_tree = model_tree.fit(X_train, y_train)\n",
        "\n",
        "tree_pred = model_tree.predict(X_val)\n",
        "\n",
        "tree_fscore = f1_score(y_val, tree_pred)"
      ],
      "metadata": {
        "id": "au5Ij6U7V7Tp"
      },
      "execution_count": 21,
      "outputs": []
    },
    {
      "cell_type": "code",
      "source": [
        "# Random forest\n",
        "model_randomForest = RandomForestClassifier()\n",
        "model_randomForest = model_randomForest.fit(X_train, y_train)\n",
        "\n",
        "randomForest_pred = model_randomForest.predict(X_val)\n",
        "\n",
        "randomForest_fscore = f1_score(y_val, randomForest_pred)"
      ],
      "metadata": {
        "id": "kCN6VwOAV7Tv"
      },
      "execution_count": 22,
      "outputs": []
    },
    {
      "cell_type": "code",
      "source": [
        "# K Neighbors\n",
        "model_KNN = KNeighborsClassifier()\n",
        "model_KNN = model_KNN.fit(X_train, y_train)\n",
        "\n",
        "KNN_pred = model_KNN.predict(X_val)\n",
        "\n",
        "KNN_fscore = f1_score(y_val, KNN_pred)"
      ],
      "metadata": {
        "id": "w98Cu3hHV7Tv"
      },
      "execution_count": 23,
      "outputs": []
    },
    {
      "cell_type": "code",
      "source": [
        "#GaussianNB\n",
        "model_GaussianNB = GaussianNB()\n",
        "model_GaussianNB = model_GaussianNB.fit(X_train, y_train)\n",
        "\n",
        "GaussianNB_pred = model_GaussianNB.predict(X_val)\n",
        "\n",
        "GaussianNB_fscore = f1_score(y_val, GaussianNB_pred)"
      ],
      "metadata": {
        "id": "mPKifZLkV7Tv"
      },
      "execution_count": 24,
      "outputs": []
    },
    {
      "cell_type": "code",
      "source": [
        "# AdaBoost\n",
        "model_AdaBoost = AdaBoostClassifier()\n",
        "model_AdaBoost = model_AdaBoost.fit(X_train, y_train)\n",
        "\n",
        "AdaBoost_pred = model_AdaBoost.predict(X_val)\n",
        "\n",
        "AdaBoost_pred = f1_score(y_val, AdaBoost_pred)"
      ],
      "metadata": {
        "id": "gk1owFEhV7Tv"
      },
      "execution_count": 25,
      "outputs": []
    },
    {
      "cell_type": "code",
      "source": [
        "print(\"F-scores on oversampled data\")\n",
        "print(\"\\tDecision tree:\", tree_fscore)\n",
        "print(\"\\tRandom forest:\", randomForest_fscore)\n",
        "print(\"\\tK Neighbors:  \", KNN_fscore)\n",
        "print(\"\\tGaussianNB:   \", GaussianNB_fscore)\n",
        "print(\"\\tAda Boost:    \", AdaBoost_pred)"
      ],
      "metadata": {
        "id": "BweVjEyjV7Tv",
        "colab": {
          "base_uri": "https://localhost:8080/"
        },
        "outputId": "792635c8-5402-47a6-b8f5-6b6f18018e89"
      },
      "execution_count": 26,
      "outputs": [
        {
          "output_type": "stream",
          "name": "stdout",
          "text": [
            "F-scores on undersampled data\n",
            "\tDecision tree: 0.9490624204542242\n",
            "\tRandom forest: 0.970210305702103\n",
            "\tK Neighbors:   0.884664502740382\n",
            "\tGaussianNB:    0.7006446286240513\n",
            "\tAda Boost:     0.7728920594082563\n"
          ]
        }
      ]
    },
    {
      "cell_type": "markdown",
      "source": [
        "# The best model\n",
        "\n",
        "The best model turned out to be Random Forest classifier based on oversampled data\n",
        "\n",
        "The next section is about determining what features this model uses for classification and further analysis on test data (not validation data)."
      ],
      "metadata": {
        "id": "dUGJsmxKdn9U"
      }
    },
    {
      "cell_type": "code",
      "source": [
        "# Using the oversampled Random Forest Classifier\n",
        "y_pred = model_randomForest.predict(X_test)\n",
        "\n",
        "# Getting the metrics\n",
        "metrics = precision_recall_fscore_support(y_test, y_pred, average=\"binary\")\n",
        "\n",
        "# Printing the metrics\n",
        "print(\"Using the oversampled Random Forest Classifier\")\n",
        "print(\"\\tPrecision:\", metrics[0])\n",
        "print(\"\\tAccuracy: \", metrics[1])\n",
        "print(\"\\tF-score:  \", metrics[2])"
      ],
      "metadata": {
        "colab": {
          "base_uri": "https://localhost:8080/"
        },
        "id": "o7ZWnhOKdpol",
        "outputId": "ed981d89-eac4-4051-ad76-20584e6413b2"
      },
      "execution_count": 33,
      "outputs": [
        {
          "output_type": "stream",
          "name": "stdout",
          "text": [
            "Using the oversampled Random Forest Classifier\n",
            "\tPrecision: 0.9446190102120974\n",
            "\tAccuracy:  0.9988134084841294\n",
            "\tF-score:   0.9709605790581654\n"
          ]
        }
      ]
    },
    {
      "cell_type": "code",
      "source": [
        "features_with_importances = list(zip(X.columns, model_randomForest.feature_importances_))\n",
        "features_with_importances.sort(key = lambda x: x[1], reverse = True)"
      ],
      "metadata": {
        "id": "Fib7FeM6gfLu"
      },
      "execution_count": 42,
      "outputs": []
    },
    {
      "cell_type": "code",
      "source": [
        "print(\"Features with their importance in the model\")\n",
        "for label, importance in features_with_importances:\n",
        "    print(\"\\t\" + label + \":\", importance)"
      ],
      "metadata": {
        "colab": {
          "base_uri": "https://localhost:8080/"
        },
        "id": "QQiZARF4kr_L",
        "outputId": "c5272ccc-5f91-46af-de59-f32291a00e2b"
      },
      "execution_count": 45,
      "outputs": [
        {
          "output_type": "stream",
          "name": "stdout",
          "text": [
            "Features with their importance in the model\n",
            "\tAge: 0.14965159384313692\n",
            "\tBMI: 0.1401640678908864\n",
            "\tGenHlth: 0.09284557057534196\n",
            "\tPhysHlth: 0.06954425026659421\n",
            "\tHighBP: 0.05687555922266534\n",
            "\tIncome: 0.05546891502615199\n",
            "\tEducation: 0.05291354443958691\n",
            "\tPhysActivity: 0.05002844964578994\n",
            "\tMentHlth: 0.04742415883718448\n",
            "\tHighChol: 0.042109965352066375\n",
            "\tSmoker: 0.03703416834257633\n",
            "\tDiabetes: 0.03041709354554814\n",
            "\tDiffWalk: 0.02822650178743779\n",
            "\tSex: 0.027321245331673693\n",
            "\tLastCheckup: 0.02533155801439645\n",
            "\tFruits: 0.025081067300540074\n",
            "\tStroke: 0.024033750226281094\n",
            "\tVeggies: 0.020120590824680325\n",
            "\tNoDocBcCost: 0.010809915413139519\n",
            "\tHvyDrinking: 0.008275672291716466\n",
            "\tHealthcare: 0.006322361822605675\n"
          ]
        }
      ]
    },
    {
      "cell_type": "code",
      "source": [
        "features = list(zip(*features_with_importances))[0]\n",
        "scores = list(zip(*features_with_importances))[1]\n",
        "\n",
        "plt.rcParams['figure.figsize'] = [20, 8]\n",
        "\n",
        "plt.bar(features, scores)\n",
        "plt.xticks(rotation=45, ha=\"right\")\n",
        "plt.ylabel('Feature Importance')\n",
        "plt.show()"
      ],
      "metadata": {
        "colab": {
          "base_uri": "https://localhost:8080/",
          "height": 527
        },
        "id": "Dbk3rvWclPH3",
        "outputId": "387541ea-4cd1-490b-8f82-cb8cfb3c3d03"
      },
      "execution_count": 71,
      "outputs": [
        {
          "output_type": "display_data",
          "data": {
            "image/png": "[encoded data removed]",
            "text/plain": [
              "<Figure size 1440x576 with 1 Axes>"
            ]
          },
          "metadata": {
            "needs_background": "light"
          }
        }
      ]
    },
    {
      "cell_type": "code",
      "source": [
        "features = list(zip(*features_with_importances[:10]))[0]\n",
        "scores = list(zip(*features_with_importances[:10]))[1]\n",
        "\n",
        "plt.rcParams['figure.figsize'] = [9, 8]\n",
        "\n",
        "plt.bar(features, scores)\n",
        "plt.xticks(rotation=45, ha=\"right\")\n",
        "plt.ylabel('Feature Importance')\n",
        "plt.show()"
      ],
      "metadata": {
        "colab": {
          "base_uri": "https://localhost:8080/",
          "height": 523
        },
        "id": "jll7HNXspqom",
        "outputId": "de821bcb-4869-4d38-ddb6-44c97a65a858"
      },
      "execution_count": 72,
      "outputs": [
        {
          "output_type": "display_data",
          "data": {
            "image/png": "[encoded data removed]",
            "text/plain": [
              "<Figure size 648x576 with 1 Axes>"
            ]
          },
          "metadata": {
            "needs_background": "light"
          }
        }
      ]
    }
  ]
}