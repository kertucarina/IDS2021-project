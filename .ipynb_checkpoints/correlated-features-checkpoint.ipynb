{
 "cells": [
  {
   "cell_type": "markdown",
   "id": "2b085153",
   "metadata": {},
   "source": [
    "# Group C7 - Finding features which are strongly correlated with heart disease"
   ]
  },
  {
   "cell_type": "markdown",
   "id": "7cbadbb0",
   "metadata": {},
   "source": [
    "### Step 1. Setting up"
   ]
  },
  {
   "cell_type": "code",
   "execution_count": 1,
   "id": "6b9a41b0",
   "metadata": {},
   "outputs": [],
   "source": [
    "import pandas as pd\n",
    "import numpy as np"
   ]
  },
  {
   "cell_type": "code",
   "execution_count": 2,
   "id": "51d48508",
   "metadata": {},
   "outputs": [
    {
     "data": {
      "text/html": [
       "<div>\n",
       "<style scoped>\n",
       "    .dataframe tbody tr th:only-of-type {\n",
       "        vertical-align: middle;\n",
       "    }\n",
       "\n",
       "    .dataframe tbody tr th {\n",
       "        vertical-align: top;\n",
       "    }\n",
       "\n",
       "    .dataframe thead th {\n",
       "        text-align: right;\n",
       "    }\n",
       "</style>\n",
       "<table border=\"1\" class=\"dataframe\">\n",
       "  <thead>\n",
       "    <tr style=\"text-align: right;\">\n",
       "      <th></th>\n",
       "      <th>HeartDisease</th>\n",
       "      <th>HighBP</th>\n",
       "      <th>HighChol</th>\n",
       "      <th>BMI</th>\n",
       "      <th>Smoker</th>\n",
       "      <th>Stroke</th>\n",
       "      <th>Diabetes</th>\n",
       "      <th>PhysActivity</th>\n",
       "      <th>Fruits</th>\n",
       "      <th>Veggies</th>\n",
       "      <th>...</th>\n",
       "      <th>NoDocBcCost</th>\n",
       "      <th>LastCheckup</th>\n",
       "      <th>GenHlth</th>\n",
       "      <th>MentHlth</th>\n",
       "      <th>PhysHlth</th>\n",
       "      <th>DiffWalk</th>\n",
       "      <th>Sex</th>\n",
       "      <th>Age</th>\n",
       "      <th>Education</th>\n",
       "      <th>Income</th>\n",
       "    </tr>\n",
       "  </thead>\n",
       "  <tbody>\n",
       "    <tr>\n",
       "      <th>0</th>\n",
       "      <td>0.0</td>\n",
       "      <td>1.0</td>\n",
       "      <td>1.0</td>\n",
       "      <td>40.0</td>\n",
       "      <td>1.0</td>\n",
       "      <td>0.0</td>\n",
       "      <td>0.0</td>\n",
       "      <td>0.0</td>\n",
       "      <td>0.0</td>\n",
       "      <td>1.0</td>\n",
       "      <td>...</td>\n",
       "      <td>0.0</td>\n",
       "      <td>4.0</td>\n",
       "      <td>1.0</td>\n",
       "      <td>18.0</td>\n",
       "      <td>15.0</td>\n",
       "      <td>1.0</td>\n",
       "      <td>0.0</td>\n",
       "      <td>9.0</td>\n",
       "      <td>4.0</td>\n",
       "      <td>2.0</td>\n",
       "    </tr>\n",
       "    <tr>\n",
       "      <th>1</th>\n",
       "      <td>0.0</td>\n",
       "      <td>0.0</td>\n",
       "      <td>0.0</td>\n",
       "      <td>25.0</td>\n",
       "      <td>3.0</td>\n",
       "      <td>0.0</td>\n",
       "      <td>0.0</td>\n",
       "      <td>2.0</td>\n",
       "      <td>0.0</td>\n",
       "      <td>0.0</td>\n",
       "      <td>...</td>\n",
       "      <td>1.0</td>\n",
       "      <td>1.0</td>\n",
       "      <td>3.0</td>\n",
       "      <td>0.0</td>\n",
       "      <td>0.0</td>\n",
       "      <td>0.0</td>\n",
       "      <td>0.0</td>\n",
       "      <td>7.0</td>\n",
       "      <td>6.0</td>\n",
       "      <td>1.0</td>\n",
       "    </tr>\n",
       "    <tr>\n",
       "      <th>2</th>\n",
       "      <td>0.0</td>\n",
       "      <td>1.0</td>\n",
       "      <td>1.0</td>\n",
       "      <td>28.0</td>\n",
       "      <td>0.0</td>\n",
       "      <td>0.0</td>\n",
       "      <td>0.0</td>\n",
       "      <td>0.0</td>\n",
       "      <td>1.0</td>\n",
       "      <td>0.0</td>\n",
       "      <td>...</td>\n",
       "      <td>1.0</td>\n",
       "      <td>4.0</td>\n",
       "      <td>1.0</td>\n",
       "      <td>30.0</td>\n",
       "      <td>30.0</td>\n",
       "      <td>1.0</td>\n",
       "      <td>0.0</td>\n",
       "      <td>9.0</td>\n",
       "      <td>4.0</td>\n",
       "      <td>5.0</td>\n",
       "    </tr>\n",
       "    <tr>\n",
       "      <th>3</th>\n",
       "      <td>0.0</td>\n",
       "      <td>1.0</td>\n",
       "      <td>0.0</td>\n",
       "      <td>27.0</td>\n",
       "      <td>0.0</td>\n",
       "      <td>0.0</td>\n",
       "      <td>0.0</td>\n",
       "      <td>3.0</td>\n",
       "      <td>1.0</td>\n",
       "      <td>1.0</td>\n",
       "      <td>...</td>\n",
       "      <td>0.0</td>\n",
       "      <td>4.0</td>\n",
       "      <td>4.0</td>\n",
       "      <td>0.0</td>\n",
       "      <td>0.0</td>\n",
       "      <td>0.0</td>\n",
       "      <td>0.0</td>\n",
       "      <td>11.0</td>\n",
       "      <td>3.0</td>\n",
       "      <td>4.0</td>\n",
       "    </tr>\n",
       "    <tr>\n",
       "      <th>4</th>\n",
       "      <td>0.0</td>\n",
       "      <td>1.0</td>\n",
       "      <td>1.0</td>\n",
       "      <td>24.0</td>\n",
       "      <td>0.0</td>\n",
       "      <td>0.0</td>\n",
       "      <td>0.0</td>\n",
       "      <td>3.0</td>\n",
       "      <td>1.0</td>\n",
       "      <td>1.0</td>\n",
       "      <td>...</td>\n",
       "      <td>0.0</td>\n",
       "      <td>4.0</td>\n",
       "      <td>4.0</td>\n",
       "      <td>3.0</td>\n",
       "      <td>0.0</td>\n",
       "      <td>0.0</td>\n",
       "      <td>0.0</td>\n",
       "      <td>11.0</td>\n",
       "      <td>5.0</td>\n",
       "      <td>2.0</td>\n",
       "    </tr>\n",
       "  </tbody>\n",
       "</table>\n",
       "<p>5 rows × 22 columns</p>\n",
       "</div>"
      ],
      "text/plain": [
       "   HeartDisease  HighBP  HighChol   BMI  Smoker  Stroke  Diabetes  \\\n",
       "0           0.0     1.0       1.0  40.0     1.0     0.0       0.0   \n",
       "1           0.0     0.0       0.0  25.0     3.0     0.0       0.0   \n",
       "2           0.0     1.0       1.0  28.0     0.0     0.0       0.0   \n",
       "3           0.0     1.0       0.0  27.0     0.0     0.0       0.0   \n",
       "4           0.0     1.0       1.0  24.0     0.0     0.0       0.0   \n",
       "\n",
       "   PhysActivity  Fruits  Veggies  ...  NoDocBcCost  LastCheckup  GenHlth  \\\n",
       "0           0.0     0.0      1.0  ...          0.0          4.0      1.0   \n",
       "1           2.0     0.0      0.0  ...          1.0          1.0      3.0   \n",
       "2           0.0     1.0      0.0  ...          1.0          4.0      1.0   \n",
       "3           3.0     1.0      1.0  ...          0.0          4.0      4.0   \n",
       "4           3.0     1.0      1.0  ...          0.0          4.0      4.0   \n",
       "\n",
       "   MentHlth  PhysHlth  DiffWalk  Sex   Age  Education  Income  \n",
       "0      18.0      15.0       1.0  0.0   9.0        4.0     2.0  \n",
       "1       0.0       0.0       0.0  0.0   7.0        6.0     1.0  \n",
       "2      30.0      30.0       1.0  0.0   9.0        4.0     5.0  \n",
       "3       0.0       0.0       0.0  0.0  11.0        3.0     4.0  \n",
       "4       3.0       0.0       0.0  0.0  11.0        5.0     2.0  \n",
       "\n",
       "[5 rows x 22 columns]"
      ]
     },
     "execution_count": 2,
     "metadata": {},
     "output_type": "execute_result"
    }
   ],
   "source": [
    "# Reading in the data\n",
    "df = pd.read_csv('./datasets/BRFSS2015_cleaned.csv')\n",
    "df.head()"
   ]
  },
  {
   "cell_type": "markdown",
   "id": "759db5b1",
   "metadata": {},
   "source": [
    "### Step 2. Finding the highest absolute correlations"
   ]
  },
  {
   "cell_type": "code",
   "execution_count": 3,
   "id": "a38b973c",
   "metadata": {},
   "outputs": [
    {
     "name": "stdout",
     "output_type": "stream",
     "text": [
      "Age             0.221903\n",
      "DiffWalk        0.212788\n",
      "HighBP          0.209104\n",
      "Stroke          0.201416\n",
      "PhysHlth        0.180766\n",
      "HighChol        0.180709\n",
      "Diabetes        0.180333\n",
      "Sex             0.086846\n",
      "Smoker          0.079474\n",
      "MentHlth        0.064147\n",
      "LastCheckup     0.056367\n",
      "BMI             0.053326\n",
      "NoDocBcCost     0.030192\n",
      "Healthcare      0.019100\n",
      "Fruits         -0.020066\n",
      "HvyDrinking    -0.028971\n",
      "Veggies        -0.038988\n",
      "PhysActivity   -0.058593\n",
      "Education      -0.099420\n",
      "Income         -0.137396\n",
      "GenHlth        -0.257664\n",
      "Name: HeartDisease, dtype: float64\n"
     ]
    }
   ],
   "source": [
    "pairwise_correlations = df.corr()\n",
    "corr_target = pairwise_correlations[\"HeartDisease\"].sort_values(ascending=False)[1:]\n",
    "print(corr_target)"
   ]
  },
  {
   "cell_type": "markdown",
   "id": "deb2048f",
   "metadata": {},
   "source": [
    "Above we can see the correlations between features and the target variable. Now lets see, which absolute correlations are the strongest."
   ]
  },
  {
   "cell_type": "code",
   "execution_count": 4,
   "id": "ea4bf097",
   "metadata": {},
   "outputs": [
    {
     "name": "stdout",
     "output_type": "stream",
     "text": [
      "GenHlth         0.257664\n",
      "Age             0.221903\n",
      "DiffWalk        0.212788\n",
      "HighBP          0.209104\n",
      "Stroke          0.201416\n",
      "PhysHlth        0.180766\n",
      "HighChol        0.180709\n",
      "Diabetes        0.180333\n",
      "Income          0.137396\n",
      "Education       0.099420\n",
      "Sex             0.086846\n",
      "Smoker          0.079474\n",
      "MentHlth        0.064147\n",
      "PhysActivity    0.058593\n",
      "LastCheckup     0.056367\n",
      "BMI             0.053326\n",
      "Veggies         0.038988\n",
      "NoDocBcCost     0.030192\n",
      "HvyDrinking     0.028971\n",
      "Fruits          0.020066\n",
      "Healthcare      0.019100\n",
      "Name: HeartDisease, dtype: float64\n"
     ]
    }
   ],
   "source": [
    "corr_abs = corr_target.copy()\n",
    "for i in range(len(corr_abs)):\n",
    "    corr_abs[i] = abs(corr_target[i])\n",
    "corr_abs = corr_abs.sort_values(ascending=False)\n",
    "print(corr_abs)"
   ]
  },
  {
   "cell_type": "markdown",
   "id": "ac15ba50",
   "metadata": {},
   "source": [
    "Based on our data, the top 5 features which are directly connected to heart disease are:\n",
    "* 1. GenHlth — People who said that in general their health is bad are more likely to have heart disease.\n",
    "* 2. Age — Older people are more likely to have heart disease.\n",
    "* 3. Diffwalk — People who have serious difficulty walking or climbing stairs are more likely to have heart disease.\n",
    "* 4. HighBP — People who have been told that they have high blood pressure by a doctor, nurse, or other health professional are more likely to have heart disease.\n",
    "* 5. Stroke — People who have ever had a stroke are more likely to have heart disease."
   ]
  },
  {
   "cell_type": "markdown",
   "id": "6df517d0",
   "metadata": {},
   "source": [
    "### Step 3. Visualizing"
   ]
  },
  {
   "cell_type": "markdown",
   "id": "51244ba8",
   "metadata": {},
   "source": [
    "Now we will be visualizing the correlations between each feature and the target variable by creating some plots."
   ]
  },
  {
   "cell_type": "code",
   "execution_count": 5,
   "id": "1a8b2a0e",
   "metadata": {},
   "outputs": [],
   "source": [
    "import matplotlib.pyplot as plt\n",
    "%matplotlib inline \n",
    "plt.style.use(\"ggplot\") #Default plot style"
   ]
  },
  {
   "cell_type": "markdown",
   "id": "eba05ead",
   "metadata": {},
   "source": [
    "**a. Strongest correlations**"
   ]
  },
  {
   "cell_type": "code",
   "execution_count": 6,
   "id": "5f86d3d4",
   "metadata": {},
   "outputs": [
    {
     "data": {
      "image/png": "[encoded data removed]",
      "text/plain": [
       "<Figure size 432x288 with 1 Axes>"
      ]
     },
     "metadata": {},
     "output_type": "display_data"
    }
   ],
   "source": [
    "corr_abs_top10 = corr_abs[0:10]\n",
    "corr_abs_top10.plot.bar(color=\"cadetblue\")\n",
    "plt.show()"
   ]
  },
  {
   "cell_type": "markdown",
   "id": "76f0c0cd",
   "metadata": {},
   "source": [
    "**b. General health and heart disease**"
   ]
  },
  {
   "cell_type": "code",
   "execution_count": 7,
   "id": "fde6841a",
   "metadata": {},
   "outputs": [
    {
     "data": {
      "text/plain": [
       "<matplotlib.legend.Legend at 0x234f32a6be0>"
      ]
     },
     "execution_count": 7,
     "metadata": {},
     "output_type": "execute_result"
    },
    {
     "data": {
      "image/png": "[encoded data removed]",
      "text/plain": [
       "<Figure size 432x288 with 1 Axes>"
      ]
     },
     "metadata": {},
     "output_type": "display_data"
    }
   ],
   "source": [
    "df.groupby('HeartDisease').GenHlth.value_counts(normalize=True).unstack(0).plot.bar(color=[\"lightgreen\", \"salmon\"])\n",
    "plt.xlabel(\"Self-rated general health on a 5-point scale\")\n",
    "plt.legend(loc=\"upper right\", title=\"Heart disease\")"
   ]
  },
  {
   "cell_type": "markdown",
   "id": "c7670aaa",
   "metadata": {},
   "source": [
    "**c. Age and heart disease**"
   ]
  },
  {
   "cell_type": "code",
   "execution_count": 8,
   "id": "d96c89b0",
   "metadata": {},
   "outputs": [
    {
     "data": {
      "text/plain": [
       "<matplotlib.legend.Legend at 0x234f32e2340>"
      ]
     },
     "execution_count": 8,
     "metadata": {},
     "output_type": "execute_result"
    },
    {
     "data": {
      "image/png": "[encoded data removed]",
      "text/plain": [
       "<Figure size 432x288 with 1 Axes>"
      ]
     },
     "metadata": {},
     "output_type": "display_data"
    }
   ],
   "source": [
    "df.groupby('HeartDisease').Age.value_counts(normalize=True).unstack(0).plot.bar(color=[\"lightgreen\", \"salmon\"])\n",
    "plt.xlabel(\"Thirteen-level age category\")\n",
    "plt.legend(loc=\"upper left\", title=\"Heart disease\")"
   ]
  },
  {
   "cell_type": "markdown",
   "id": "ffcd6395",
   "metadata": {},
   "source": [
    "**d. Difficulty walking and heart disease**"
   ]
  },
  {
   "cell_type": "code",
   "execution_count": 9,
   "id": "21844df1",
   "metadata": {},
   "outputs": [
    {
     "data": {
      "text/plain": [
       "<matplotlib.legend.Legend at 0x234f3f64100>"
      ]
     },
     "execution_count": 9,
     "metadata": {},
     "output_type": "execute_result"
    },
    {
     "data": {
      "image/png": "[encoded data removed]",
      "text/plain": [
       "<Figure size 432x288 with 1 Axes>"
      ]
     },
     "metadata": {},
     "output_type": "display_data"
    }
   ],
   "source": [
    "df.groupby('HeartDisease').DiffWalk.value_counts(normalize=True).unstack(0).plot.bar(color=[\"lightgreen\", \"salmon\"])\n",
    "plt.xlabel(\"Difficulty walking or climbing stairs\")\n",
    "plt.legend(loc=\"upper right\", title=\"Heart disease\")"
   ]
  },
  {
   "cell_type": "markdown",
   "id": "d0458af2",
   "metadata": {},
   "source": [
    "**e) High blood-pressure and heart disease**"
   ]
  },
  {
   "cell_type": "code",
   "execution_count": 10,
   "id": "cb3aeddf",
   "metadata": {},
   "outputs": [
    {
     "data": {
      "text/plain": [
       "<matplotlib.legend.Legend at 0x234f4856040>"
      ]
     },
     "execution_count": 10,
     "metadata": {},
     "output_type": "execute_result"
    },
    {
     "data": {
      "image/png": "[encoded data removed]",
      "text/plain": [
       "<Figure size 432x288 with 1 Axes>"
      ]
     },
     "metadata": {},
     "output_type": "display_data"
    }
   ],
   "source": [
    "df.groupby('HeartDisease').HighBP.value_counts(normalize=True).unstack(0).plot.bar(color=[\"lightgreen\", \"salmon\"])\n",
    "plt.xlabel(\"High blood pressure\")\n",
    "plt.legend(loc=\"upper center\", title=\"Heart disease\")"
   ]
  },
  {
   "cell_type": "markdown",
   "id": "de69c56f",
   "metadata": {},
   "source": [
    "**f) Stroke and heart disease**"
   ]
  },
  {
   "cell_type": "code",
   "execution_count": 11,
   "id": "ca46e023",
   "metadata": {},
   "outputs": [
    {
     "data": {
      "text/plain": [
       "<matplotlib.legend.Legend at 0x234f476efa0>"
      ]
     },
     "execution_count": 11,
     "metadata": {},
     "output_type": "execute_result"
    },
    {
     "data": {
      "image/png": "[encoded data removed]",
      "text/plain": [
       "<Figure size 432x288 with 1 Axes>"
      ]
     },
     "metadata": {},
     "output_type": "display_data"
    }
   ],
   "source": [
    "df.groupby('HeartDisease').Stroke.value_counts(normalize=True).unstack(0).plot.bar(color=[\"lightgreen\", \"salmon\"])\n",
    "plt.xlabel(\"Stroke\")\n",
    "plt.legend(loc=\"upper right\", title=\"Heart disease\")"
   ]
  },
  {
   "cell_type": "markdown",
   "id": "e4cbbd07",
   "metadata": {},
   "source": [
    "**g) Physical health and heart disease**"
   ]
  },
  {
   "cell_type": "code",
   "execution_count": 12,
   "id": "ff859148",
   "metadata": {},
   "outputs": [
    {
     "data": {
      "text/plain": [
       "<matplotlib.legend.Legend at 0x234f49c7310>"
      ]
     },
     "execution_count": 12,
     "metadata": {},
     "output_type": "execute_result"
    },
    {
     "data": {
      "image/png": "[encoded data removed]",
      "text/plain": [
       "<Figure size 432x288 with 1 Axes>"
      ]
     },
     "metadata": {},
     "output_type": "display_data"
    }
   ],
   "source": [
    "df.groupby('HeartDisease').PhysHlth.value_counts(normalize=True).unstack(0).plot.bar(color=[\"lightgreen\", \"salmon\"])\n",
    "plt.xlabel(\"Number of bad physical health days during the past 30 days\")\n",
    "plt.legend(loc=\"upper center\", title=\"Heart disease\")"
   ]
  },
  {
   "cell_type": "markdown",
   "id": "2c22b8c8",
   "metadata": {},
   "source": [
    "This plot is not the best visually, but people who said that during the past 30 days their health was not good for more than two days more likely had heart disease."
   ]
  },
  {
   "cell_type": "markdown",
   "id": "4437994c",
   "metadata": {},
   "source": [
    "**h) High cholesterol and heart disease**"
   ]
  },
  {
   "cell_type": "code",
   "execution_count": 13,
   "id": "9d930cab",
   "metadata": {},
   "outputs": [
    {
     "data": {
      "text/plain": [
       "<matplotlib.legend.Legend at 0x234f4b08490>"
      ]
     },
     "execution_count": 13,
     "metadata": {},
     "output_type": "execute_result"
    },
    {
     "data": {
      "image/png": "[encoded data removed]",
      "text/plain": [
       "<Figure size 432x288 with 1 Axes>"
      ]
     },
     "metadata": {},
     "output_type": "display_data"
    }
   ],
   "source": [
    "df.groupby('HeartDisease').HighChol.value_counts(normalize=True).unstack(0).plot.bar(color=[\"lightgreen\", \"salmon\"])\n",
    "plt.xlabel(\"High blood cholesterol\")\n",
    "plt.legend(loc=\"upper center\", title=\"Heart disease\")"
   ]
  },
  {
   "cell_type": "markdown",
   "id": "b39a0192",
   "metadata": {},
   "source": [
    "More than 60% of people who have been told by a professional that their cholesterol is high also have heart disease."
   ]
  },
  {
   "cell_type": "markdown",
   "id": "6396ce6a",
   "metadata": {},
   "source": [
    "**i) Diabetes and heart disease**"
   ]
  },
  {
   "cell_type": "code",
   "execution_count": 14,
   "id": "6d899d63",
   "metadata": {},
   "outputs": [
    {
     "data": {
      "text/plain": [
       "<matplotlib.legend.Legend at 0x234f4b512b0>"
      ]
     },
     "execution_count": 14,
     "metadata": {},
     "output_type": "execute_result"
    },
    {
     "data": {
      "image/png": "[encoded data removed]",
      "text/plain": [
       "<Figure size 432x288 with 1 Axes>"
      ]
     },
     "metadata": {},
     "output_type": "display_data"
    }
   ],
   "source": [
    "df.groupby('HeartDisease').Diabetes.value_counts(normalize=True).unstack(0).plot.bar(color=[\"lightgreen\", \"salmon\"])\n",
    "plt.xlabel(\"Diabetes\")\n",
    "plt.legend(loc=\"upper center\", title=\"Heart disease\")"
   ]
  },
  {
   "cell_type": "markdown",
   "id": "8dccd831",
   "metadata": {},
   "source": [
    "0 — no diabetes or diabetes only during pregnancy, 1 — pre-diabetes or borderline diabetes, 2 — yes diabetes"
   ]
  },
  {
   "cell_type": "markdown",
   "id": "cf7b7a7f",
   "metadata": {},
   "source": [
    "**j) Income and heart disease**"
   ]
  },
  {
   "cell_type": "code",
   "execution_count": 15,
   "id": "9d5a5195",
   "metadata": {},
   "outputs": [
    {
     "data": {
      "text/plain": [
       "<matplotlib.legend.Legend at 0x234f4c3ceb0>"
      ]
     },
     "execution_count": 15,
     "metadata": {},
     "output_type": "execute_result"
    },
    {
     "data": {
      "image/png": "[encoded data removed]",
      "text/plain": [
       "<Figure size 432x288 with 1 Axes>"
      ]
     },
     "metadata": {},
     "output_type": "display_data"
    }
   ],
   "source": [
    "df.groupby('HeartDisease').Income.value_counts(normalize=True).unstack(0).plot.bar(color=[\"lightgreen\", \"salmon\"])\n",
    "plt.xlabel(\"Five-level income category\")\n",
    "plt.legend(loc=\"upper left\", title=\"Heart disease\")"
   ]
  },
  {
   "cell_type": "markdown",
   "id": "4cfd31a9",
   "metadata": {},
   "source": [
    "People on lower incomes (less than $50,000) are more likely to have heart disease."
   ]
  }
 ],
 "metadata": {
  "kernelspec": {
   "display_name": "Python 3",
   "language": "python",
   "name": "python3"
  },
  "language_info": {
   "codemirror_mode": {
    "name": "ipython",
    "version": 3
   },
   "file_extension": ".py",
   "mimetype": "text/x-python",
   "name": "python",
   "nbconvert_exporter": "python",
   "pygments_lexer": "ipython3",
   "version": "3.8.8"
  }
 },
 "nbformat": 4,
 "nbformat_minor": 5
}
